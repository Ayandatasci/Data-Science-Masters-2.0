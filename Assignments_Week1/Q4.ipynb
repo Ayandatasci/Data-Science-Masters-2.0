{
 "cells": [
  {
   "cell_type": "code",
   "execution_count": 19,
   "id": "25927c50-a3ae-4b5b-a76a-8eacef1fcaab",
   "metadata": {},
   "outputs": [
    {
     "name": "stdout",
     "output_type": "stream",
     "text": [
      "Length of list is  10\n",
      "\n",
      "8.9  is a  <class 'float'>\n",
      "67  is a  <class 'int'>\n",
      "Ayan  is a  <class 'str'>\n",
      "90  is a  <class 'int'>\n",
      "[3, 4, 6, 7]  is a  <class 'list'>\n",
      "Hello  is a  <class 'str'>\n",
      "6  is a  <class 'int'>\n",
      "45  is a  <class 'int'>\n",
      "['Heaven', 'Hell']  is a  <class 'list'>\n",
      "78  is a  <class 'int'>\n"
     ]
    }
   ],
   "source": [
    "'''Q4. Create a list of length 10 of your choice containing multiple types of data. \n",
    "Using for loop print the element and its data type. '''\n",
    "\n",
    "mylist=[8.9,67,\"Ayan\",90,[3,4,6,7],\"Hello\",6,45,[\"Heaven\",\"Hell\"],78]\n",
    "print(\"Length of list is \", len(mylist))\n",
    "print()\n",
    "\n",
    "for i in range(0,len(mylist)):\n",
    "     print(mylist[i],\" is a \", type(mylist[i]))"
   ]
  }
 ],
 "metadata": {
  "kernelspec": {
   "display_name": "Python 3 (ipykernel)",
   "language": "python",
   "name": "python3"
  },
  "language_info": {
   "codemirror_mode": {
    "name": "ipython",
    "version": 3
   },
   "file_extension": ".py",
   "mimetype": "text/x-python",
   "name": "python",
   "nbconvert_exporter": "python",
   "pygments_lexer": "ipython3",
   "version": "3.10.8"
  }
 },
 "nbformat": 4,
 "nbformat_minor": 5
}
