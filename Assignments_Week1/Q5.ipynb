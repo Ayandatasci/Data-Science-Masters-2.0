{
 "cells": [
  {
   "cell_type": "code",
   "execution_count": 1,
   "id": "0dfbcf39-b778-47bf-b92c-d449f7789979",
   "metadata": {},
   "outputs": [
    {
     "name": "stdin",
     "output_type": "stream",
     "text": [
      "Enter a number:  45\n",
      "Enter another number:  5\n"
     ]
    },
    {
     "name": "stdout",
     "output_type": "stream",
     "text": [
      "9 is divisible by 1 times.\n"
     ]
    }
   ],
   "source": [
    "'''Q5. Using a while loop, verify if the number A is purely divisible by number B and if so then how many\n",
    "times it can be divisible. '''\n",
    "\n",
    "a = int(input(\"Enter a number: \"))\n",
    "b = int(input(\"Enter another number: \"))\n",
    "c = 0\n",
    "\n",
    "while a % b == 0:\n",
    "    c += 1\n",
    "    a = a // b\n",
    "        \n",
    "if c > 0:\n",
    "    print(str(a) + \" is divisible by \" + str(c) + \" times.\")\n",
    "else:\n",
    "    print(str(a) + \" is not divisible by \" + str(b) + \".\")\n"
   ]
  },
  {
   "cell_type": "code",
   "execution_count": null,
   "id": "f40345f8-e849-46e6-a92c-48a778403f6a",
   "metadata": {},
   "outputs": [],
   "source": []
  }
 ],
 "metadata": {
  "kernelspec": {
   "display_name": "Python 3 (ipykernel)",
   "language": "python",
   "name": "python3"
  },
  "language_info": {
   "codemirror_mode": {
    "name": "ipython",
    "version": 3
   },
   "file_extension": ".py",
   "mimetype": "text/x-python",
   "name": "python",
   "nbconvert_exporter": "python",
   "pygments_lexer": "ipython3",
   "version": "3.10.8"
  }
 },
 "nbformat": 4,
 "nbformat_minor": 5
}
