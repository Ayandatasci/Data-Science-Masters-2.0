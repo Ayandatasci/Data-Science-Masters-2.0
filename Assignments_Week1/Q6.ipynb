{
 "cells": [
  {
   "cell_type": "code",
   "execution_count": 1,
   "id": "28fa5149-d440-4437-83ac-ef3d80e3a2ea",
   "metadata": {},
   "outputs": [
    {
     "name": "stdout",
     "output_type": "stream",
     "text": [
      "33 is divisible by 3\n",
      "18 is divisible by 3\n",
      "7 is not divisible by 3\n",
      "13 is not divisible by 3\n",
      "29 is not divisible by 3\n",
      "58 is not divisible by 3\n",
      "24 is divisible by 3\n",
      "68 is not divisible by 3\n",
      "57 is divisible by 3\n",
      "37 is not divisible by 3\n",
      "93 is divisible by 3\n",
      "30 is divisible by 3\n",
      "98 is not divisible by 3\n",
      "61 is not divisible by 3\n",
      "38 is not divisible by 3\n",
      "32 is not divisible by 3\n",
      "43 is not divisible by 3\n",
      "9 is divisible by 3\n",
      "20 is not divisible by 3\n",
      "86 is not divisible by 3\n",
      "23 is not divisible by 3\n",
      "43 is not divisible by 3\n",
      "86 is not divisible by 3\n",
      "32 is not divisible by 3\n",
      "14 is not divisible by 3\n"
     ]
    }
   ],
   "source": [
    "'''Create a list containing 25 int type data. Using for loop and if-else condition print if the element is\n",
    "divisible by 3 or not.'''\n",
    "\n",
    "import random\n",
    "lst = [random.randint(1, 100) for i in range(25)]\n",
    "\n",
    "for element in lst:\n",
    "    if element % 3 == 0:\n",
    "        print(str(element) + \" is divisible by 3\")\n",
    "    else:\n",
    "        print(str(element) + \" is not divisible by 3\")"
   ]
  },
  {
   "cell_type": "code",
   "execution_count": null,
   "id": "2ba676fa-21f7-430e-b09c-189312f706b9",
   "metadata": {},
   "outputs": [],
   "source": []
  }
 ],
 "metadata": {
  "kernelspec": {
   "display_name": "Python 3 (ipykernel)",
   "language": "python",
   "name": "python3"
  },
  "language_info": {
   "codemirror_mode": {
    "name": "ipython",
    "version": 3
   },
   "file_extension": ".py",
   "mimetype": "text/x-python",
   "name": "python",
   "nbconvert_exporter": "python",
   "pygments_lexer": "ipython3",
   "version": "3.10.8"
  }
 },
 "nbformat": 4,
 "nbformat_minor": 5
}
