{
 "cells": [
  {
   "cell_type": "code",
   "execution_count": null,
   "id": "43884842-4440-4fae-9703-997e67e8f0af",
   "metadata": {},
   "outputs": [],
   "source": [
    "'''What do you understand about mutable and immutable data types? Give examples for both showing\n",
    "this property. '''"
   ]
  },
  {
   "cell_type": "code",
   "execution_count": 1,
   "id": "183c6100-95fd-489e-85e5-76d342be10e1",
   "metadata": {},
   "outputs": [
    {
     "name": "stdout",
     "output_type": "stream",
     "text": [
      "22\n",
      "10\n"
     ]
    }
   ],
   "source": [
    "#An immutable data type is one that cannot be changed after it is created.\n",
    "#Examples: integers, floats, tuples, and strings.\n",
    "x=12\n",
    "y=10\n",
    "x=22\n",
    "print(x) #prints new value\n",
    "print(y) #prints old value"
   ]
  },
  {
   "cell_type": "code",
   "execution_count": 2,
   "id": "0638fe51-aafa-470d-90e8-08788a6e989e",
   "metadata": {},
   "outputs": [
    {
     "name": "stdout",
     "output_type": "stream",
     "text": [
      "[1, 2, 3, 4]\n"
     ]
    }
   ],
   "source": [
    "#A mutable data type is one that can be changed after it is created.\n",
    "#Examples: lists, dictionaries, and sets.\n",
    "l=[1,2,3]\n",
    "l.append(4)\n",
    "print(l) #prints 4 which was added later"
   ]
  },
  {
   "cell_type": "code",
   "execution_count": null,
   "id": "4f81e7d1-1fce-4c9b-a7f5-ee514fe6ba7a",
   "metadata": {},
   "outputs": [],
   "source": []
  }
 ],
 "metadata": {
  "kernelspec": {
   "display_name": "Python 3 (ipykernel)",
   "language": "python",
   "name": "python3"
  },
  "language_info": {
   "codemirror_mode": {
    "name": "ipython",
    "version": 3
   },
   "file_extension": ".py",
   "mimetype": "text/x-python",
   "name": "python",
   "nbconvert_exporter": "python",
   "pygments_lexer": "ipython3",
   "version": "3.10.8"
  }
 },
 "nbformat": 4,
 "nbformat_minor": 5
}
