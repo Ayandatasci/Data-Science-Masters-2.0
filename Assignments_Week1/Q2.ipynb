{
 "cells": [
  {
   "cell_type": "raw",
   "id": "81fb10d0-16c5-4b88-9e70-28bd43aef61e",
   "metadata": {},
   "source": [
    "'''Q2. Given are some following variables containing data:\n",
    "(i) var1 = ‘ ‘\n",
    "(ii) var2 = ‘[ DS , ML , Python]’\n",
    "(iii) var3 = [ ‘DS’ , ’ML’ , ‘Python’ ]\n",
    "(iv) var4 = 1.\n",
    "What will be the data type of the above given variable.'''\n",
    "\n",
    "Answers:\n",
    "var1 = String (empty string)\n",
    "var2 = String containing a list of strings\n",
    "var3 = List containing strings\n",
    "var4 = Integer"
   ]
  },
  {
   "cell_type": "code",
   "execution_count": null,
   "id": "de0a714f-1f2d-4bb5-8307-830a656815b7",
   "metadata": {},
   "outputs": [],
   "source": []
  }
 ],
 "metadata": {
  "kernelspec": {
   "display_name": "Python 3 (ipykernel)",
   "language": "python",
   "name": "python3"
  },
  "language_info": {
   "codemirror_mode": {
    "name": "ipython",
    "version": 3
   },
   "file_extension": ".py",
   "mimetype": "text/x-python",
   "name": "python",
   "nbconvert_exporter": "python",
   "pygments_lexer": "ipython3",
   "version": "3.10.8"
  }
 },
 "nbformat": 4,
 "nbformat_minor": 5
}
