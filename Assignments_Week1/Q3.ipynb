{
 "cells": [
  {
   "cell_type": "code",
   "execution_count": 2,
   "id": "f5d61861-84c0-4d84-8271-429c58069073",
   "metadata": {},
   "outputs": [
    {
     "name": "stdout",
     "output_type": "stream",
     "text": [
      "2.5\n",
      "1\n",
      "2\n",
      "8\n"
     ]
    }
   ],
   "source": [
    "'''Q3. Explain the use of the following operators using an example:\n",
    "(i) /\n",
    "(ii) %\n",
    "(iii) //\n",
    "(iv) **  '''\n",
    "\n",
    "# Division\n",
    "print(5 / 2)\n",
    "\n",
    "# Modulo\n",
    "print(5 % 2)\n",
    "\n",
    "# Floor division\n",
    "print(5 // 2)\n",
    "\n",
    "# Exponentiation\n",
    "print(2 ** 3)\n"
   ]
  },
  {
   "cell_type": "code",
   "execution_count": null,
   "id": "7b27a7d3-2c00-43f2-a3ce-1acf62ad9e00",
   "metadata": {},
   "outputs": [],
   "source": []
  }
 ],
 "metadata": {
  "kernelspec": {
   "display_name": "Python 3 (ipykernel)",
   "language": "python",
   "name": "python3"
  },
  "language_info": {
   "codemirror_mode": {
    "name": "ipython",
    "version": 3
   },
   "file_extension": ".py",
   "mimetype": "text/x-python",
   "name": "python",
   "nbconvert_exporter": "python",
   "pygments_lexer": "ipython3",
   "version": "3.10.8"
  }
 },
 "nbformat": 4,
 "nbformat_minor": 5
}
