{
 "cells": [
  {
   "cell_type": "code",
   "execution_count": null,
   "id": "7335ed33-0ea9-4b26-9384-b5a7b4d8ca38",
   "metadata": {},
   "outputs": [],
   "source": [
    "'''Q1, Create a vehicle class with an init method having instance \n",
    "variables as name_of_vehicle, max_speed and average_of_vehicle.'''\n",
    "\n",
    "class vehicle:\n",
    "    def __init__(self, name_of_vehicle,max_speed,average_of_vehicle):\n",
    "        self.name_of_vehicle= name_of_vehicle\n",
    "        self.max_speed= max_speed\n",
    "        self.average_of_vehicle= average_of_vehicle\n",
    "\n",
    "    def get_details(self):\n",
    "        print(f\"The name of vehicle is {self.name_of_vehicle}\")\n",
    "        print(f\"The maximum speed of vehicle is {self.max_speed} km/h\")\n",
    "        print(f\"The average of vehicle is {self.average_of_vehicle} km/l\")\n",
    "\n",
    "obj= vehicle(\"Toyota\",180,20)\n",
    "obj.get_details()"
   ]
  },
  {
   "cell_type": "code",
   "execution_count": null,
   "id": "07afa4f3-a114-4e9d-b5c6-c77f0654d5db",
   "metadata": {},
   "outputs": [],
   "source": [
    "'''Q2. Create a child class car from the vehicle class created in Que 1,\n",
    "which will inherit the vehicle class.Create a method named seating_capacity \n",
    "which takes capacity as an argument and returns the name of the vehicle and its seating capacity.'''\n",
    "\n",
    "class vehicle:\n",
    "    def __init__(self,name,seats):\n",
    "        self.name= name\n",
    "        self.seats= seats\n",
    "class car(vehicle):\n",
    "    def seating_capacity(self):\n",
    "        print(f\"The name of the vehicle is {self.name} and its seating capacity is {self.seats}\")\n",
    "\n",
    "obj=car(\"Sedan\",4)\n",
    "obj.seating_capacity()"
   ]
  },
  {
   "cell_type": "code",
   "execution_count": null,
   "id": "cc915bd6-6e15-4bff-b822-cb6e72c3d106",
   "metadata": {},
   "outputs": [],
   "source": [
    "'''Q3. What is multiple inheritance? \n",
    "Write a python code to demonstrate multiple inheritance.'''\n",
    "\n",
    "#Multiple inheritance is a feature in object-oriented programming where a class can inherit attributes and methods from multiple parent classes\n",
    "\n",
    "\n",
    "class papa:\n",
    "    def papa_msg(self):\n",
    "        print(\"Hi, this is Dad\")\n",
    "class mom:\n",
    "    def mom_msg(self):\n",
    "        print(\"Hi, this is Mom\")\n",
    "class child(papa, mom):\n",
    "    pass\n",
    "\n",
    "obj=child() # created object of child()\n",
    "obj.papa_msg()\n",
    "obj.mom_msg()"
   ]
  },
  {
   "cell_type": "code",
   "execution_count": null,
   "id": "c566bac6-acc0-488e-ae52-b6525ce3d960",
   "metadata": {},
   "outputs": [],
   "source": [
    "'''Q4. What are getter and setter in python? \n",
    "Create a class and create a getter and a setter method in this class.'''\n",
    "\n",
    "#In Python, getters and setters are methods used to access (get) and modify (set) the values of class attributes respectively.\n",
    "\n",
    "class person:\n",
    "    def __init__(self,name,age):\n",
    "        self.__name= name\n",
    "        self.__age= age\n",
    "    \n",
    "    def get_age(self):\n",
    "        print(f\"{self.__name}'s age is {self.__age}\")\n",
    "    def set_age(self,new_age):\n",
    "        if new_age>0:\n",
    "            print(f\"{self.__name}'s age is {new_age}\")\n",
    "\n",
    "obj= person(\"Ayan\",19)\n",
    "obj.get_age() #prints initial value\n",
    "obj.set_age(25) #prints new value\n"
   ]
  },
  {
   "cell_type": "code",
   "execution_count": null,
   "id": "be325b08-da2e-491e-be65-efc4c363688c",
   "metadata": {},
   "outputs": [],
   "source": [
    "'''Q5.What is method overriding in python? \n",
    "Write a python code to demonstrate method overriding.'''\n",
    "\n",
    "#Method overriding is a feature in object-oriented programming where a child class provides a different implementation for a method that is already defined in its parent class. \n",
    "\n",
    "class animal:\n",
    "    def sound(self):\n",
    "        print(\"Animal makes sounds\")\n",
    "\n",
    "class dog(animal):\n",
    "    def sound(self):\n",
    "        print(\"Dog barks\")\n",
    "\n",
    "class cat(animal):\n",
    "    def sound(self):\n",
    "        print(\"Cats meows\")\n",
    "\n",
    "Bholu=dog()\n",
    "Tiger=cat()\n",
    "Bholu.sound()\n",
    "Tiger.sound()"
   ]
  }
 ],
 "metadata": {
  "kernelspec": {
   "display_name": "Python 3 (ipykernel)",
   "language": "python",
   "name": "python3"
  },
  "language_info": {
   "codemirror_mode": {
    "name": "ipython",
    "version": 3
   },
   "file_extension": ".py",
   "mimetype": "text/x-python",
   "name": "python",
   "nbconvert_exporter": "python",
   "pygments_lexer": "ipython3",
   "version": "3.10.8"
  }
 },
 "nbformat": 4,
 "nbformat_minor": 5
}
