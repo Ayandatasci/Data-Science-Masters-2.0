{
 "cells": [
  {
   "cell_type": "code",
   "execution_count": 2,
   "id": "5e46cf42-a308-4e4b-938f-5a2f6db1fea4",
   "metadata": {},
   "outputs": [
    {
     "name": "stdout",
     "output_type": "stream",
     "text": [
      "Racing Cars\n",
      "Classical Bikes\n"
     ]
    }
   ],
   "source": [
    "'''Q1. What is Abstraction in OOps? Explain with an example.'''\n",
    "\n",
    "#Abstraction is the process of hiding the implementation details of a complex object or system, so that users only need to know how to interact with it.\n",
    "# Data abstraction is nothing but the combination of abstract class and interface\n",
    "import abc\n",
    "class ayan:\n",
    "    @abc.abstractmethod\n",
    "    def bike_choice(self):\n",
    "        pass\n",
    "\n",
    "    @abc.abstractmethod\n",
    "    def car_choice(self):\n",
    "        pass\n",
    "\n",
    "    @abc.abstractmethod\n",
    "    def pc_choice(self):\n",
    "        pass\n",
    "\n",
    "class age_15(ayan):\n",
    "    def bike_choice(self):\n",
    "        return \"Super Bikes\"\n",
    "    def car_choice(self):\n",
    "        return \"Racing Cars\"\n",
    "    def pc_choice(self):\n",
    "        return \"Gaming PC\"\n",
    "    \n",
    "class age_25(ayan):\n",
    "    def bike_choice(self):\n",
    "        return \"Classical Bikes\"\n",
    "    def car_choice(self):\n",
    "        return \"Family Cars\"\n",
    "    def pc_choice(self):\n",
    "        return \"Work related PC\"\n",
    "    \n",
    "ayan15=age_15()\n",
    "print(ayan15.car_choice())\n",
    "ayan25=age_25()\n",
    "print(ayan25.bike_choice())"
   ]
  },
  {
   "cell_type": "raw",
   "id": "077c6409-b6fa-483f-bcc4-125960f7a96e",
   "metadata": {},
   "source": [
    "Q2. Differentiate between Abstraction and Encapsulation.Explain with an example.\n",
    "\n",
    "Abstraction:\n",
    "Focuses on representing essential features and hiding unnecessary details.\n",
    "Provides a simplified and higher-level view of objects.\n",
    "Allows users to interact with objects through an interface without knowing internal workings.\n",
    "Achieved through abstract classes, interfaces, and inheritance.\n",
    "\n",
    "EXAMPLE: Using a remote control to operate a television without knowing the internal circuitry or mechanisms.\n",
    " You interact with the simplified interface of the remote control (power button, volume control, channel selection)\n",
    " to control the TV without understanding the underlying technology.\n",
    "\n",
    " \n",
    "\n",
    "Encapsulation:\n",
    "Focuses on bundling data and methods together and controlling access to them.\n",
    "Ensures data protection and restricted access to maintain object integrity.\n",
    "Restricts direct access to data, allowing it to be accessed and modified through defined methods.\n",
    "Achieved through access modifiers (e.g., public, private, protected) and getter/setter methods.\n",
    "\n",
    "EXAMPLE: A class representing a car that encapsulates its properties (color, model) and methods \n",
    "(start engine, accelerate, brake). The data is protected and can only be accessed or modified \n",
    "through the defined methods, ensuring controlled and secure manipulation of the car object.\n",
    "\n"
   ]
  },
  {
   "cell_type": "raw",
   "id": "4af4afd3-993c-47b0-8ebd-9049d87de5f0",
   "metadata": {},
   "source": [
    "Q3. What is abc module in python? Why is it used?\n",
    "\n",
    "The abc module in Python stands for \"Abstract Base Classes.\"\n",
    "\n",
    "    It is used for:\n",
    "    Defining abstract base classes.\n",
    "    Provides mechanisms for enforcing interfaces and behaviors.\n",
    "    Promotes code reusability and maintainability.\n",
    "    Creates a contract between classes.\n",
    "    Ensures subclasses implement specified methods.\n",
    "    Helps in designing and enforcing a consistent structure in code.\n",
    "    "
   ]
  },
  {
   "cell_type": "raw",
   "id": "d28cf916-a2e3-4d16-80fc-0207ce524f26",
   "metadata": {},
   "source": [
    "Q4. How can we achieve data abstraction?\n",
    "\n",
    "Designing classes with clear interfaces.\n",
    "Using access modifiers to control visibility.\n",
    "Encapsulating related data and methods within classes.\n",
    "Implementing getter and setter methods for controlled access.\n",
    "Utilizing abstract base classes (ABCs) to define interfaces and enforce method implementation."
   ]
  },
  {
   "cell_type": "raw",
   "id": "499e50f0-65b5-4afd-9e47-029b6727ebc5",
   "metadata": {},
   "source": [
    "Q5. Can we create an instance of an abstract class? Explain your answer.\n",
    "\n",
    "No, you cannot create an instance of an abstract class in Python.An abstract class is a class that cannot be instantiated.It can only be used as a blueprint for other classes. Abstract classes can contain abstract methods, which are methods that must be implemented by any class that inherits from the abstract class."
   ]
  }
 ],
 "metadata": {
  "kernelspec": {
   "display_name": "Python 3 (ipykernel)",
   "language": "python",
   "name": "python3"
  },
  "language_info": {
   "codemirror_mode": {
    "name": "ipython",
    "version": 3
   },
   "file_extension": ".py",
   "mimetype": "text/x-python",
   "name": "python",
   "nbconvert_exporter": "python",
   "pygments_lexer": "ipython3",
   "version": "3.10.8"
  }
 },
 "nbformat": 4,
 "nbformat_minor": 5
}
