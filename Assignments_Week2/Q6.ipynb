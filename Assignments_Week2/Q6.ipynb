{
 "cells": [
  {
   "cell_type": "code",
   "execution_count": 1,
   "id": "5d83208a-da5c-49e9-a7d4-23841a3a8d78",
   "metadata": {},
   "outputs": [
    {
     "name": "stdout",
     "output_type": "stream",
     "text": [
      "<class 'complex'>\n",
      "<class 'complex'>\n"
     ]
    }
   ],
   "source": [
    "'''Q6. What is a complex number in mathematics, \n",
    "        and how is it represented in Python?'''\n",
    "\n",
    "'''In mathematics, a complex number is a number of the form a + bi, \n",
    "    where a and b are real numbers, and i is an imaginary unit \n",
    "    satisfying i2 = −1. For example, 2 + 3i is a complex number.'''\n",
    "\n",
    "c = complex(2, 3) #1st method\n",
    "print(type(c))\n",
    "\n",
    "c = 2 + 5j #2nd method\n",
    "print(type(c))\n"
   ]
  },
  {
   "cell_type": "code",
   "execution_count": null,
   "id": "ca6ea6ac-d659-4901-9f21-302f817d50a1",
   "metadata": {},
   "outputs": [],
   "source": []
  }
 ],
 "metadata": {
  "kernelspec": {
   "display_name": "Python 3 (ipykernel)",
   "language": "python",
   "name": "python3"
  },
  "language_info": {
   "codemirror_mode": {
    "name": "ipython",
    "version": 3
   },
   "file_extension": ".py",
   "mimetype": "text/x-python",
   "name": "python",
   "nbconvert_exporter": "python",
   "pygments_lexer": "ipython3",
   "version": "3.10.8"
  }
 },
 "nbformat": 4,
 "nbformat_minor": 5
}
