{
 "cells": [
  {
   "cell_type": "code",
   "execution_count": 1,
   "id": "add2dd20-332c-4503-8a66-0b68dd4d8c98",
   "metadata": {},
   "outputs": [
    {
     "name": "stdout",
     "output_type": "stream",
     "text": [
      "10\n"
     ]
    }
   ],
   "source": [
    "'''Q2. What are variables in Python? \n",
    "How do you declare and assign values to variables?'''\n",
    "\n",
    "#A variable is a named location in memory where you can store values such as numbers, strings, lists, or other objects.\n",
    " \n",
    "#declares a variable named x and assigns it the value 10\n",
    "x = 10\n",
    "print(x)\n"
   ]
  }
 ],
 "metadata": {
  "kernelspec": {
   "display_name": "Python 3 (ipykernel)",
   "language": "python",
   "name": "python3"
  },
  "language_info": {
   "codemirror_mode": {
    "name": "ipython",
    "version": 3
   },
   "file_extension": ".py",
   "mimetype": "text/x-python",
   "name": "python",
   "nbconvert_exporter": "python",
   "pygments_lexer": "ipython3",
   "version": "3.10.8"
  }
 },
 "nbformat": 4,
 "nbformat_minor": 5
}
