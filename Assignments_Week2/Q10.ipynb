{
 "cells": [
  {
   "cell_type": "code",
   "execution_count": 1,
   "id": "47090082-b729-4f36-a071-9383b1ea8267",
   "metadata": {},
   "outputs": [
    {
     "name": "stdout",
     "output_type": "stream",
     "text": [
      " World\n"
     ]
    }
   ],
   "source": [
    "'''Q10. Given the string \"Hello, World!\",\n",
    "     extract the substring \"World\".'''\n",
    "\n",
    "s=\"Hello, World!\"\n",
    "print(s[6:12])"
   ]
  },
  {
   "cell_type": "code",
   "execution_count": null,
   "id": "b2d5891f-3f7a-4a74-a7b9-75205ce2c9be",
   "metadata": {},
   "outputs": [],
   "source": []
  }
 ],
 "metadata": {
  "kernelspec": {
   "display_name": "Python 3 (ipykernel)",
   "language": "python",
   "name": "python3"
  },
  "language_info": {
   "codemirror_mode": {
    "name": "ipython",
    "version": 3
   },
   "file_extension": ".py",
   "mimetype": "text/x-python",
   "name": "python",
   "nbconvert_exporter": "python",
   "pygments_lexer": "ipython3",
   "version": "3.10.8"
  }
 },
 "nbformat": 4,
 "nbformat_minor": 5
}
