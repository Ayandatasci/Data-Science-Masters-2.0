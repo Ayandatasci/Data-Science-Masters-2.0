{
 "cells": [
  {
   "cell_type": "code",
   "execution_count": null,
   "id": "8827f710-04f0-4085-95d4-8be1b1f82454",
   "metadata": {},
   "outputs": [
    {
     "data": {
      "text/plain": [
       "\"Difference between Exceptions and Syntax errors:\\n\\nExceptions:\\nOccur during runtime when an error or exceptional situation is encountered.\\nCaused by specific operations, input data, or external factors.\\nCan be caught and handled using try-except blocks.\\nRepresented by specific exception classes, providing error details.\\n\\nSyntax errors:\\nOccur during the parsing phase before the program starts executing.\\nCaused by violations of the language's syntax rules.\\nPrevent the program from running until fixed.\\nDo not provide specific error details but indicate code structure issues.\""
      ]
     },
     "execution_count": 1,
     "metadata": {},
     "output_type": "execute_result"
    }
   ],
   "source": [
    "\\"
   ]
  },
  {
   "cell_type": "code",
   "execution_count": null,
   "id": "4c99e59e-e697-4cdc-b239-ed0a7860a19f",
   "metadata": {},
   "outputs": [],
   "source": [
    "'''Q2. What happens when an exception is not handled? Explain with an example'''\n",
    "\n",
    "'''When an exception is not handled, the Python interpreter will print an error message and then stop the program. This is because the interpreter does not know how to deal with the exception, so it has to stop the program to prevent further errors.'''\n",
    "\n",
    "'''EXPLANATION WITH EXAMPLES'''\n",
    "\n",
    "#1st Case\n",
    "f= open(\"test.txt\",'r')\n",
    "print(\"test.txt\")\n",
    "# Above code will print \"FileNotFoundError: [Errno 2] No such file or directory: 'test.txt'\"\n",
    "\n",
    "#2nd Case\n",
    "try:\n",
    "    f= open(\"test.txt\",'r')\n",
    "except FileNotFoundError:\n",
    "    print(\"Error: File not found\")\n",
    "# error handled within the except block, prints an error message: \"Error: File not found\""
   ]
  },
  {
   "cell_type": "code",
   "execution_count": null,
   "id": "cb68975c-58ef-424d-874b-8274a5bd1878",
   "metadata": {},
   "outputs": [],
   "source": [
    "'''Q3. Which Python statements are used to catch and handle exceptions? Explain with an example'''\n",
    "\n",
    "#In Python, exceptions can be caught and handled using the try and except statements\n",
    "\n",
    "try:\n",
    "    a=int(input(\"Enter the 1st no: \"))\n",
    "    b=int(input(\"Enter the 2nd no: \"))\n",
    "    print(a/b)\n",
    "except ZeroDivisionError:\n",
    "    print(\"Error, Can't divide by zero\")"
   ]
  },
  {
   "cell_type": "code",
   "execution_count": null,
   "id": "8ff6fd4d-d9be-48e3-9195-e37b8352e9ec",
   "metadata": {},
   "outputs": [],
   "source": [
    "'''Q4. Explain with an example:\n",
    "    a. try and else\n",
    "    b. finally\n",
    "    c. raise'''\n",
    "\n",
    "#a. The \"try and else\" blocks are used together to handle exceptions and execute code when no exceptions occur. \n",
    "try:\n",
    "    a=int(input(\"Enter the 1st no: \"))\n",
    "    b=int(input(\"Enter the 2nd no: \"))\n",
    "except ZeroDivisionError:\n",
    "    print(\"Error, Can't divide by zero\")\n",
    "else:\n",
    "    print(a/b)\n",
    "\n",
    "#b. The \"finally\" block is used to specify code that is always executed, regardless of whether an exception occurred or not.\n",
    "try:\n",
    "    file = open(\"myfile.txt\", \"r\")\n",
    "finally:\n",
    "    file.close()\n",
    "    print(\"File closed.\")\n",
    "\n",
    "#c. The \"raise\" statement is used to raise an exception explicitly. It allows you to create and raise custom exceptions or raise built-in exceptions in specific situations.\n",
    "class AgeCheck(Exception):\n",
    "    def __init__(self, msg):\n",
    "        self.msg = msg\n",
    "\n",
    "def age_check():\n",
    "    try:\n",
    "        age = int(input(\"Enter the age: \"))\n",
    "        if age < 0:\n",
    "            raise AgeCheck(\"Invalid age\")\n",
    "        elif age > 150:\n",
    "            raise AgeCheck(\"Very high age\")\n",
    "        else:\n",
    "            print(\"Valid age\")\n",
    "    except ValueError:\n",
    "        print(\"Invalid input, enter a valid integer for age\")\n",
    "    finally:\n",
    "        print(\"Thank you!\")\n",
    "\n",
    "age_check()\n"
   ]
  },
  {
   "cell_type": "code",
   "execution_count": null,
   "id": "c02b9549-fb5a-4077-91fd-923f99b4c7a4",
   "metadata": {},
   "outputs": [],
   "source": [
    "'''Q5. What are Custom Exceptions in python? Why do we need Custom Exceptions? Explain with an example'''\n",
    "\n",
    "#Custom exceptions in Python are user-defined exceptions that allow developers to create and raise their own exceptions based on specific conditions or requirements within their code. \n",
    "\n",
    "''' \n",
    "Need for Custom Exceptions:\n",
    "    Clarity and Readability: Meaningful names for exceptions make code more readable.\n",
    "    Error Handling: Handle different types of exceptions in a specific way.\n",
    "    Modularity and Reusability: Define once, reuse throughout the codebase.'''\n",
    "\n",
    "class AgeCheck(Exception):\n",
    "    def __init__(self, msg):\n",
    "        self.msg = msg\n",
    "\n",
    "def age_check():\n",
    "    try:\n",
    "        age = int(input(\"Enter the age: \"))\n",
    "        if age < 0:\n",
    "            raise AgeCheck(\"Invalid age\")\n",
    "        elif age > 150:\n",
    "            raise AgeCheck(\"Very high age\")\n",
    "        else:\n",
    "            print(\"Valid age\")\n",
    "    except ValueError:\n",
    "        print(\"Invalid input, enter a valid integer for age\")\n",
    "    finally:\n",
    "        print(\"Thank you!\")\n",
    "\n",
    "age_check()\n"
   ]
  },
  {
   "cell_type": "code",
   "execution_count": null,
   "id": "d7033eb0-715a-457e-8942-4651439a69f6",
   "metadata": {},
   "outputs": [],
   "source": [
    "'''Q6. Create a custom exception class. Use this class to handle an exception.'''\n",
    "\n",
    "class custom_exception(Exception):\n",
    "    def __init__(self,message):\n",
    "        self.message= message\n",
    "\n",
    "    def __str__(self):\n",
    "        return f\"My Custom Exception: {self.message}\"\n",
    "    \n",
    "def divide(a,b):\n",
    "    try:\n",
    "        if b==0:\n",
    "            raise custom_exception(\"Error!, Division by zero is not allowed\")\n",
    "        else:\n",
    "            result=a/b\n",
    "            print(\"The result is: \",result)\n",
    "\n",
    "    except custom_exception as e:\n",
    "        print(\"Exception Occured\", e)\n",
    "\n",
    "\n",
    "divide(10,0)"
   ]
  }
 ],
 "metadata": {
  "kernelspec": {
   "display_name": "Python 3 (ipykernel)",
   "language": "python",
   "name": "python3"
  },
  "language_info": {
   "codemirror_mode": {
    "name": "ipython",
    "version": 3
   },
   "file_extension": ".py",
   "mimetype": "text/x-python",
   "name": "python",
   "nbconvert_exporter": "python",
   "pygments_lexer": "ipython3",
   "version": "3.10.8"
  }
 },
 "nbformat": 4,
 "nbformat_minor": 5
}
